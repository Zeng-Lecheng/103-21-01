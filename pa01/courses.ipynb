{
 "cells": [
  {
   "cell_type": "markdown",
   "metadata": {},
   "source": [
    "# Courses Demo\n",
    "This Jupyter notebook is for exploring the data set courses20-21.json\n",
    "which consists of all Brandeis courses in the 20-21 academic year (Fall20, Spr21, Sum21) \n",
    "which had at least 1 student enrolled.\n",
    "\n",
    "First we need to read the json file into a list of Python dictionaries"
   ]
  },
  {
   "cell_type": "code",
   "execution_count": null,
   "metadata": {},
   "outputs": [],
   "source": [
    "import json"
   ]
  },
  {
   "cell_type": "code",
   "execution_count": null,
   "metadata": {},
   "outputs": [],
   "source": [
    "with open(\"courses20-21.json\",\"r\",encoding='utf-8') as jsonfile:\n",
    "    courses = json.load(jsonfile)"
   ]
  },
  {
   "cell_type": "markdown",
   "metadata": {},
   "source": [
    "## Structure of a course\n",
    "Next we look at the fields of each course dictionary and their values"
   ]
  },
  {
   "cell_type": "code",
   "execution_count": null,
   "metadata": {},
   "outputs": [],
   "source": [
    "print('there are',len(courses),'courses in the dataset')\n",
    "print('here is the data for course 1246')\n",
    "courses[1246]"
   ]
  },
  {
   "cell_type": "markdown",
   "metadata": {},
   "source": [
    "## Cleaning the data\n",
    "If we want to sort courses by instructor or by code, we need to replace the lists with tuples (which are immutable lists)"
   ]
  },
  {
   "cell_type": "code",
   "execution_count": null,
   "metadata": {},
   "outputs": [],
   "source": [
    "for course in courses:\n",
    "        course['instructor'] = tuple(course['instructor'])\n",
    "        course['coinstructors'] = tuple([tuple(f) for f in course['coinstructors']])\n",
    "        course['code']= tuple(course['code'])"
   ]
  },
  {
   "cell_type": "code",
   "execution_count": null,
   "metadata": {},
   "outputs": [],
   "source": [
    "print('notice that the instructor and code are tuples now')\n",
    "courses[1246]"
   ]
  },
  {
   "cell_type": "markdown",
   "metadata": {},
   "source": [
    "# Question 5: explore the data set\n",
    "\n",
    "Interested topics:\n",
    "* how many faculty taught COSI courses last year?\n",
    "* what is the total number of students taking COSI courses last year?\n",
    "* what was the median size of a COSI course last year (counting only those courses with at least 10 students)\n",
    "* create a list of tuples (E,S) where S is a subject and E is the number of students enrolled in courses in that subject, sort it and print the top 10. This shows the top 10 subjects in terms of number of students taught.\n",
    "* do the same as in (d) but print the top 10 subjects in terms of number of courses offered\n",
    "* do the same as (d) but print the top 10 subjects in terms of number of faculty teaching courses in that subject\n",
    "* list the top 20 faculty in terms of number of students they taught\n",
    "* list the top 20 courses in terms of number of students taking that course (where you combine different sections and semesters, i.e. just use the subject and course number)\n",
    "* Create your own interesting question (each team member creates their own) and use Python to answer that question.\n",
    "    * What are the top 10 popular COSI courses (measure by amount of enrolled students)?\n",
    "    * How many students began to learn how to code last year (i.e. how many students took COSI 10a last year)?\n",
    "    * Which courses had a waitlist greater than 15 people?\n",
    "    * Which course had the biggest waitlist?\n",
    "    * How many courses are offeredon Mondays and Wednesdays?\n",
    "    \n"
   ]
  },
  {
   "cell_type": "markdown",
   "metadata": {},
   "source": [
    "# a. How many faculty taught COSI courses last year?"
   ]
  },
  {
   "cell_type": "code",
   "execution_count": null,
   "metadata": {},
   "outputs": [],
   "source": [
    "res = {course['instructor'] for course in courses if course['subject'] == 'COSI'}\n",
    "print(len(res))"
   ]
  },
  {
   "cell_type": "markdown",
   "metadata": {},
   "source": [
    "# b. What is the total number of students taking COSI courses last year?"
   ]
  },
  {
   "cell_type": "code",
   "execution_count": null,
   "metadata": {},
   "outputs": [],
   "source": [
    "COSI_Students = [course['enrolled'] for course in courses if course['subject'] == 'COSI']\n",
    "\n",
    "print (sum(COSI_Students))\n"
   ]
  },
  {
   "cell_type": "markdown",
   "metadata": {},
   "source": [
    "# c. What was the median size of a COSI course last year (counting only those courses with at least 10 students)"
   ]
  },
  {
   "cell_type": "code",
   "execution_count": null,
   "metadata": {},
   "outputs": [],
   "source": [
    "from statistics import median\n",
    "\n",
    "res = median(course['enrolled'] for course in courses if course['subject'] == 'COSI' and course['enrolled'] >= 10)\n",
    "print(res)"
   ]
  },
  {
   "cell_type": "markdown",
   "metadata": {},
   "source": [
    "# d. Create a list of tuples (E,S) where S is a subject and E is the number of students enrolled in courses in that subject, sort it and print the top 10. This shows the top 10 subjects in terms of number of students taught."
   ]
  },
  {
   "cell_type": "code",
   "execution_count": null,
   "metadata": {},
   "outputs": [],
   "source": [
    "a = {c['subject'] for c in courses}\n",
    "l = []\n",
    "for i in a:\n",
    "    b = [c['enrolled'] for c in courses if c['subject'] == i]\n",
    "    tot = 0\n",
    "    for j in b:\n",
    "        tot += j\n",
    "    l.append((i, tot))\n",
    "courses_sorted = sorted(l, key = lambda course: -course[1])\n",
    "print(courses_sorted[:10])"
   ]
  },
  {
   "cell_type": "markdown",
   "metadata": {},
   "source": [
    "# e. Do the same as in (d) but print the top 10 subjects in terms of number of courses offered"
   ]
  },
  {
   "cell_type": "code",
   "execution_count": null,
   "metadata": {},
   "outputs": [],
   "source": [
    "a = {c['subject'] for c in courses}\n",
    "l = []\n",
    "for i in a:\n",
    "    l.append((i, len({c['coursenum'] for c in courses if c['subject'] == i})))\n",
    "courses_c = sorted(l, key = lambda course: -course[1])\n",
    "courses_c[:10]"
   ]
  },
  {
   "cell_type": "markdown",
   "metadata": {},
   "source": [
    "# f. Do the same as (d) but print the top 10 subjects in terms of number of faculty teaching courses in that subject"
   ]
  },
  {
   "cell_type": "code",
   "execution_count": null,
   "metadata": {},
   "outputs": [],
   "source": [
    "a = {c['subject'] for c in courses}\n",
    "l = []\n",
    "for i in a:\n",
    "    l.append((i, len({c['instructor'] for c in courses if c['subject'] == i})))\n",
    "courses_faculty = sorted(l, key = lambda course: -course[1])\n",
    "courses_faculty[:10]"
   ]
  },
  {
   "cell_type": "markdown",
   "metadata": {},
   "source": [
    "# g. List the top 20 faculty in terms of number of students they taught"
   ]
  },
  {
   "cell_type": "code",
   "execution_count": null,
   "metadata": {},
   "outputs": [],
   "source": [
    "from collections import defaultdict\n",
    "\n",
    "tmp = defaultdict(int)\n",
    "for course in courses:\n",
    "    tmp[course['instructor']] += course['enrolled']\n",
    "res = list(((k[0], k[1]), tmp[k]) for k in tmp)\n",
    "res.sort(key=lambda x: -x[1])\n",
    "print([item[0] for item in res][:20])"
   ]
  },
  {
   "cell_type": "markdown",
   "metadata": {},
   "source": [
    "# h. list the top 20 courses in terms of number of students taking that course (where you combine different sections and semesters, i.e. just use the subject and course number)"
   ]
  },
  {
   "cell_type": "code",
   "execution_count": null,
   "metadata": {},
   "outputs": [],
   "source": [
    "from collections import defaultdict\n",
    "\n",
    "tmp = defaultdict(int)\n",
    "for course in courses:\n",
    "    tmp[course['code']] += course['enrolled']\n",
    "res = list(tmp.items())\n",
    "res.sort(key=lambda x: -x[1])\n",
    "print([item[0] for item in res][:20])"
   ]
  },
  {
   "cell_type": "markdown",
   "metadata": {},
   "source": [
    "# i. Create your own interesting question (each team member creates their own) and use Python to answer that question.\n",
    "\n",
    "What are the top 10 popular COSI courses (measure by amount of enrolled students)"
   ]
  },
  {
   "cell_type": "code",
   "execution_count": null,
   "metadata": {},
   "outputs": [],
   "source": [
    "from collections import defaultdict\n",
    "\n",
    "tmp = defaultdict(int)\n",
    "\n",
    "for course in courses:\n",
    "    if course['subject'] == 'COSI' :\n",
    "        key = course['coursenum'] + \": \" + course['name']\n",
    "        val = course['enrolled']\n",
    "        tmp[key] = val\n",
    "res = list(tmp.items())\n",
    "res.sort(key=lambda x: -x[1])\n",
    "print(res[:10])"
   ]
  },
  {
   "cell_type": "markdown",
   "metadata": {},
   "source": [
    "How many students began to learn how to code last year (i.e. how many students took COSI 10a last year)?"
   ]
  },
  {
   "cell_type": "code",
   "execution_count": null,
   "metadata": {},
   "outputs": [],
   "source": [
    "totalstudents=0\n",
    "for s in courses:\n",
    "    if s['name']=='Introduction to Problem Solving in Python':\n",
    "        totalstudents+=s['enrolled']\n",
    "print (totalstudents)"
   ]
  },
  {
   "cell_type": "markdown",
   "metadata": {},
   "source": [
    "Which courses had a waitlist greater than 15 people?"
   ]
  },
  {
   "cell_type": "code",
   "execution_count": null,
   "metadata": {},
   "outputs": [],
   "source": [
    "waitlist={course['name'] for course in courses if course['waiting']>15}\n",
    "print (waitlist)"
   ]
  },
  {
   "cell_type": "markdown",
   "metadata": {},
   "source": [
    "Which course had the biggest waitlist?"
   ]
  },
  {
   "cell_type": "code",
   "execution_count": null,
   "metadata": {},
   "outputs": [],
   "source": [
    "courseName=\"\"\n",
    "nStudents=0\n",
    "for course in courses:\n",
    "    if course['waiting'] > nStudents:\n",
    "        courseName=course['subject']+course['coursenum']+ \": \" +course['name']\n",
    "        nStudents=course['waiting']\n",
    "print (courseName+\" had the biggest waitlist of \"+str(nStudents)+\" students.\")\n"
   ]
  },
  {
   "cell_type": "markdown",
   "metadata": {},
   "source": [
    "Which course has the greatest enrollement limit?"
   ]
  },
  {
   "cell_type": "code",
   "execution_count": null,
   "metadata": {},
   "outputs": [],
   "source": [
    "name=''\n",
    "eLimit=0\n",
    "for course in courses:\n",
    "    if course['limit']!= None and course['limit']>eLimit:\n",
    "        eLimit=course['limit']\n",
    "        name=course['subject']+course['coursenum']+ \": \" +course['name']\n",
    "print (name+\" had the greatest enrollment limit of \"+str(eLimit))"
   ]
  },
  {
   "cell_type": "markdown",
   "metadata": {},
   "source": [
    "How many courses are offeredon Mondays and Wednesdays?"
   ]
  },
  {
   "cell_type": "code",
   "execution_count": null,
   "metadata": {},
   "outputs": [],
   "source": [
    "mw={course['name'] for course in courses if len(course['times'])>0 and'm' in course['times'][0]['days'] and 'w' in course ['times'][0]['days']}\n",
    "print (len(mw))\n"
   ]
  },
  {
   "cell_type": "code",
   "execution_count": null,
   "metadata": {},
   "outputs": [],
   "source": []
  }
 ],
 "metadata": {
  "kernelspec": {
   "display_name": "Python 3",
   "language": "python",
   "name": "python3"
  },
  "language_info": {
   "codemirror_mode": {
    "name": "ipython",
    "version": 3
   },
   "file_extension": ".py",
   "mimetype": "text/x-python",
   "name": "python",
   "nbconvert_exporter": "python",
   "pygments_lexer": "ipython3",
   "version": "3.8.3"
  }
 },
 "nbformat": 4,
 "nbformat_minor": 4
}
