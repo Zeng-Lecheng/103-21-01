{
 "cells": [
  {
   "cell_type": "markdown",
   "metadata": {},
   "source": [
    "# Courses Demo\n",
    "This Jupyter notebook is for exploring the data set courses20-21.json\n",
    "which consists of all Brandeis courses in the 20-21 academic year (Fall20, Spr21, Sum21) \n",
    "which had at least 1 student enrolled.\n",
    "\n",
    "First we need to read the json file into a list of Python dictionaries"
   ]
  },
  {
   "cell_type": "code",
   "execution_count": 1,
   "metadata": {},
   "outputs": [],
   "source": [
    "import json"
   ]
  },
  {
   "cell_type": "code",
   "execution_count": 2,
   "metadata": {},
   "outputs": [],
   "source": [
    "with open(\"courses20-21.json\",\"r\",encoding='utf-8') as jsonfile:\n",
    "    courses = json.load(jsonfile)"
   ]
  },
  {
   "cell_type": "markdown",
   "metadata": {},
   "source": [
    "## Structure of a course\n",
    "Next we look at the fields of each course dictionary and their values"
   ]
  },
  {
   "cell_type": "code",
   "execution_count": 3,
   "metadata": {},
   "outputs": [
    {
     "name": "stdout",
     "output_type": "stream",
     "text": [
      "there are 7813 courses in the dataset\n",
      "here is the data for course 1246\n"
     ]
    },
    {
     "data": {
      "text/plain": [
       "{'limit': 28,\n",
       " 'times': [{'start': 1080, 'end': 1170, 'days': ['w', 'm']}],\n",
       " 'enrolled': 4,\n",
       " 'details': 'Instruction for this course will be offered remotely. Meeting times for this course are listed in the schedule of classes (in ET).',\n",
       " 'type': 'section',\n",
       " 'status_text': 'Open',\n",
       " 'section': '1',\n",
       " 'waiting': 0,\n",
       " 'instructor': ['An', 'Huang', 'anhuang@brandeis.edu'],\n",
       " 'coinstructors': [],\n",
       " 'code': ['MATH', '223A'],\n",
       " 'subject': 'MATH',\n",
       " 'coursenum': '223A',\n",
       " 'name': 'Lie Algebras: Representation Theory',\n",
       " 'independent_study': False,\n",
       " 'term': '1203',\n",
       " 'description': \"Theorems of Engel and Lie. Semisimple Lie algebras, Cartan's criterion. Universal enveloping algebras, PBW theorem, Serre's construction. Representation theory. Other topics as time permits. Usually offered every second year.\\nAn Huang\"}"
      ]
     },
     "execution_count": 3,
     "metadata": {},
     "output_type": "execute_result"
    }
   ],
   "source": [
    "print('there are',len(courses),'courses in the dataset')\n",
    "print('here is the data for course 1246')\n",
    "courses[1246]"
   ]
  },
  {
   "cell_type": "markdown",
   "metadata": {},
   "source": [
    "## Cleaning the data\n",
    "If we want to sort courses by instructor or by code, we need to replace the lists with tuples (which are immutable lists)"
   ]
  },
  {
   "cell_type": "code",
   "execution_count": 4,
   "metadata": {},
   "outputs": [],
   "source": [
    "for course in courses:\n",
    "        course['instructor'] = tuple(course['instructor'])\n",
    "        course['coinstructors'] = tuple([tuple(f) for f in course['coinstructors']])\n",
    "        course['code']= tuple(course['code'])"
   ]
  },
  {
   "cell_type": "code",
   "execution_count": 5,
   "metadata": {},
   "outputs": [
    {
     "name": "stdout",
     "output_type": "stream",
     "text": [
      "notice that the instructor and code are tuples now\n"
     ]
    },
    {
     "data": {
      "text/plain": [
       "{'limit': 28,\n",
       " 'times': [{'start': 1080, 'end': 1170, 'days': ['w', 'm']}],\n",
       " 'enrolled': 4,\n",
       " 'details': 'Instruction for this course will be offered remotely. Meeting times for this course are listed in the schedule of classes (in ET).',\n",
       " 'type': 'section',\n",
       " 'status_text': 'Open',\n",
       " 'section': '1',\n",
       " 'waiting': 0,\n",
       " 'instructor': ('An', 'Huang', 'anhuang@brandeis.edu'),\n",
       " 'coinstructors': (),\n",
       " 'code': ('MATH', '223A'),\n",
       " 'subject': 'MATH',\n",
       " 'coursenum': '223A',\n",
       " 'name': 'Lie Algebras: Representation Theory',\n",
       " 'independent_study': False,\n",
       " 'term': '1203',\n",
       " 'description': \"Theorems of Engel and Lie. Semisimple Lie algebras, Cartan's criterion. Universal enveloping algebras, PBW theorem, Serre's construction. Representation theory. Other topics as time permits. Usually offered every second year.\\nAn Huang\"}"
      ]
     },
     "execution_count": 5,
     "metadata": {},
     "output_type": "execute_result"
    }
   ],
   "source": [
    "print('notice that the instructor and code are tuples now')\n",
    "courses[1246]"
   ]
  },
  {
   "cell_type": "markdown",
   "metadata": {},
   "source": [
    "# Question 5: explore the data set\n",
    "\n",
    "Interested topics:\n",
    "* how many faculty taught COSI courses last year?\n",
    "* what is the total number of students taking COSI courses last year?\n",
    "* what was the median size of a COSI course last year (counting only those courses with at least 10 students)\n",
    "* create a list of tuples (E,S) where S is a subject and E is the number of students enrolled in courses in that subject, sort it and print the top 10. This shows the top 10 subjects in terms of number of students taught.\n",
    "* do the same as in (d) but print the top 10 subjects in terms of number of courses offered\n",
    "* do the same as (d) but print the top 10 subjects in terms of number of faculty teaching courses in that subject\n",
    "* list the top 20 faculty in terms of number of students they taught\n",
    "* list the top 20 courses in terms of number of students taking that course (where you combine different sections and semesters, i.e. just use the subject and course number)\n",
    "* Create your own interesting question (each team member creates their own) and use Python to answer that question.\n"
   ]
  },
  {
   "cell_type": "code",
   "execution_count": 6,
   "metadata": {},
   "outputs": [
    {
     "name": "stdout",
     "output_type": "stream",
     "text": [
      "27\n"
     ]
    }
   ],
   "source": [
    "# How many faculty taught COSI courses last year?\n",
    "res = set(course['instructor'] for course in courses if course['subject'] == 'COSI')\n",
    "print(len(res))\n"
   ]
  },
  {
   "cell_type": "code",
   "execution_count": 7,
   "metadata": {},
   "outputs": [
    {
     "name": "stdout",
     "output_type": "stream",
     "text": [
      "2223\n"
     ]
    }
   ],
   "source": [
    "# What is the total number of students taking COSI courses last year?\n",
    "res = sum(course['enrolled'] for course in courses if course['subject'] == 'COSI')\n",
    "print(res)"
   ]
  },
  {
   "cell_type": "code",
   "execution_count": 8,
   "metadata": {},
   "outputs": [
    {
     "name": "stdout",
     "output_type": "stream",
     "text": [
      "37\n"
     ]
    }
   ],
   "source": [
    "# What is the median size of a COSI course last year?\n",
    "from statistics import median\n",
    "\n",
    "res = median(course['enrolled'] for course in courses if course['subject'] == 'COSI' and course['enrolled'] >= 10)\n",
    "print(res)"
   ]
  },
  {
   "cell_type": "code",
   "execution_count": 9,
   "metadata": {},
   "outputs": [
    {
     "name": "stdout",
     "output_type": "stream",
     "text": [
      "[('HS', 5318), ('BIOL', 3085), ('BUS', 2766), ('HWL', 2734), ('CHEM', 2322), ('ECON', 2315), ('COSI', 2223), ('MATH', 1785), ('PSYC', 1704), ('ANTH', 1144)]\n"
     ]
    }
   ],
   "source": [
    "# create a list of tuples (E,S) where S is a subject and E is the number of students enrolled in courses in that subject, \n",
    "# sort it and print the top 10.\n",
    "\n",
    "from collections import defaultdict\n",
    "\n",
    "tmp = {}\n",
    "for course in courses:\n",
    "    if course['subject'] not in tmp:\n",
    "        tmp[course['subject']] = course['enrolled']\n",
    "    else:\n",
    "        tmp[course['subject']] += course['enrolled']\n",
    "res = list(tmp.items())\n",
    "res.sort(key=lambda x: -x[1])\n",
    "print(res[:10])"
   ]
  },
  {
   "cell_type": "code",
   "execution_count": 10,
   "metadata": {},
   "outputs": [
    {
     "name": "stdout",
     "output_type": "stream",
     "text": [
      "[('HS', 188), ('BIOL', 72), ('MUS', 72), ('ENG', 71), ('ANTH', 68), ('BUS', 65), ('NEJS', 64), ('PSYC', 57), ('MATH', 55), ('ECON', 53)]\n"
     ]
    }
   ],
   "source": [
    "# do the same as in (d) but print the top 10 subjects in terms of number of courses offered\n",
    "\n",
    "from collections import defaultdict\n",
    "\n",
    "tmp = defaultdict(set)\n",
    "for course in courses:\n",
    "    tmp[course['subject']].add(course['coursenum'])\n",
    "res = [(k, len(tmp[k])) for k in tmp]\n",
    "res.sort(key=lambda x: -x[1])\n",
    "print(res[:10])"
   ]
  },
  {
   "cell_type": "code",
   "execution_count": 11,
   "metadata": {},
   "outputs": [
    {
     "name": "stdout",
     "output_type": "stream",
     "text": [
      "[('HS', 87), ('BIOL', 67), ('ECON', 52), ('BCHM', 49), ('BUS', 47), ('HIST', 47), ('BCBP', 46), ('HWL', 42), ('MATH', 37), ('NEJS', 37)]\n"
     ]
    }
   ],
   "source": [
    "# do the same as (d) but print the top 10 subjects in terms of number of faculty teaching courses in that subject\n",
    "\n",
    "from collections import defaultdict\n",
    "\n",
    "tmp = defaultdict(set)\n",
    "for course in courses:\n",
    "    tmp[course['subject']].add(course['instructor'])\n",
    "res = [(k, len(tmp[k])) for k in tmp]\n",
    "res.sort(key=lambda x: -x[1])\n",
    "print(res[:10])"
   ]
  },
  {
   "cell_type": "code",
   "execution_count": 12,
   "metadata": {},
   "outputs": [
    {
     "name": "stdout",
     "output_type": "stream",
     "text": [
      "[('Leah', 'Berkenwald'), ('Kene Nathan', 'Piasta'), ('Stephanie', 'Murray'), ('Milos', 'Dolnik'), ('Maria', 'de Boef Miara'), ('Bryan', 'Ingoglia'), ('Rachel V.E.', 'Woodruff'), ('Timothy J', 'Hickey'), ('Daniel', 'Breen'), ('Melissa', 'Kosinski-Collins'), ('Claudia', 'Novack'), ('Antonella', 'DiLillo'), ('Jon', 'Chilingerian'), ('Ahmad', 'Namini'), ('Iraklis', 'Tsekourakis'), ('Geoffrey', 'Clarke'), ('Peter', 'Mistark'), ('Brenda', 'Anderson'), ('Colleen', 'Hitchcock'), ('Scott A.', 'Redenius')]\n"
     ]
    }
   ],
   "source": [
    "# list the top 20 faculty in terms of number of students they taught\n",
    "\n",
    "from collections import defaultdict\n",
    "\n",
    "tmp = defaultdict(int)\n",
    "for course in courses:\n",
    "    tmp[course['instructor']] += course['enrolled']\n",
    "res = list(((k[0], k[1]), tmp[k]) for k in tmp)\n",
    "res.sort(key=lambda x: -x[1])\n",
    "print([item[0] for item in res][:20])\n",
    "\n"
   ]
  },
  {
   "cell_type": "code",
   "execution_count": 13,
   "metadata": {},
   "outputs": [
    {
     "name": "stdout",
     "output_type": "stream",
     "text": [
      "[('HWL', '1'), ('HWL', '1-PRE'), ('BIOL', '14A'), ('COSI', '10A'), ('PSYC', '10A'), ('BIOL', '15B'), ('MATH', '10A'), ('BIOL', '18B'), ('BIOL', '18A'), ('CHEM', '29A'), ('CHEM', '29B'), ('CHEM', '25A'), ('PSYC', '51A'), ('CHEM', '25B'), ('COSI', '12B'), ('BUS', '6A'), ('CHEM', '18A'), ('ECON', '10A'), ('MATH', '15A'), ('ANTH', '1A')]\n"
     ]
    }
   ],
   "source": [
    "# list the top 20 courses in terms of number of students taking that course (where you combine different sections \n",
    "# and semesters, i.e. just use the subject and course number)\n",
    "\n",
    "from collections import defaultdict\n",
    "\n",
    "tmp = defaultdict(int)\n",
    "for course in courses:\n",
    "    tmp[course['code']] += course['enrolled']\n",
    "res = list(tmp.items())\n",
    "res.sort(key=lambda x: -x[1])\n",
    "print([item[0] for item in res][:20])"
   ]
  },
  {
   "cell_type": "code",
   "execution_count": 14,
   "metadata": {},
   "outputs": [
    {
     "name": "stdout",
     "output_type": "stream",
     "text": [
      "[('164A: Introduction to 3-D Animation', 166), ('21A: Data Structures and the Fundamentals of Computing', 102), ('29A: Discrete Structures', 101), ('131A: Operating Systems', 94), ('130A: Introduction to the Theory of Computation', 87), ('114A: Fundamentals of Natural Language Processing I', 84), ('121B: Structure and Interpretation of Computer Programs', 61), ('123A: Statistical Machine Learning', 56), ('149B: Practical Machine Learning with Big Data', 48), ('102A: Software Entrepreneurship', 47)]\n"
     ]
    }
   ],
   "source": [
    "# Create your own interesting question (each team member creates their own) and use Python to answer that question.\n",
    "\n",
    "# What are the top 10 popular COSI courses (measure by amount of enrolled students)\n",
    "\n",
    "from collections import defaultdict\n",
    "\n",
    "tmp = defaultdict(int)\n",
    "\n",
    "for course in courses:\n",
    "    if course['subject'] == 'COSI' :\n",
    "        key = course['coursenum'] + \": \" + course['name']\n",
    "        val = course['enrolled']\n",
    "        tmp[key] = val\n",
    "res = list(tmp.items())\n",
    "res.sort(key=lambda x: -x[1])\n",
    "print(res[:10])"
   ]
  },
  {
   "cell_type": "code",
   "execution_count": null,
   "metadata": {},
   "outputs": [],
   "source": []
  }
 ],
 "metadata": {
  "kernelspec": {
   "display_name": "Python 3 (ipykernel)",
   "language": "python",
   "name": "python3"
  },
  "language_info": {
   "codemirror_mode": {
    "name": "ipython",
    "version": 3
   },
   "file_extension": ".py",
   "mimetype": "text/x-python",
   "name": "python",
   "nbconvert_exporter": "python",
   "pygments_lexer": "ipython3",
   "version": "3.9.7"
  }
 },
 "nbformat": 4,
 "nbformat_minor": 4
}
